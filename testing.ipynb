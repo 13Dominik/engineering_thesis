{
 "cells": [
  {
   "cell_type": "code",
   "execution_count": 1,
   "metadata": {
    "collapsed": true,
    "ExecuteTime": {
     "end_time": "2023-05-23T16:07:47.540025611Z",
     "start_time": "2023-05-23T16:07:47.209961975Z"
    }
   },
   "outputs": [],
   "source": [
    "import pandas as pd"
   ]
  },
  {
   "cell_type": "code",
   "execution_count": 2,
   "outputs": [
    {
     "data": {
      "text/plain": "                                              review  rating  \\\n0  Pralka niestety \" tańczy\" bardziej niż bez pod...       1   \n1  Podkładki nie są całe z gumy. Maja tylko gumow...       3   \n2  Plastikowe, ale pewien efekt antywibracyjny je...       3   \n3                                            Polecam       5   \n4  Jaka cena taki produkt. Absolutnie nie nadaje ...       1   \n5                                            Plastik       3   \n6                                            Popecam       5   \n7                                   badziewie i tyle       1   \n8                                                 Ok       5   \n9                                       Robią robotę       5   \n\n                                       article  \n0  Mata antywibracyjna SPI 55 4 mm 9 cm x 4 cm  \n1  Mata antywibracyjna SPI 55 4 mm 9 cm x 4 cm  \n2  Mata antywibracyjna SPI 55 4 mm 9 cm x 4 cm  \n3  Mata antywibracyjna SPI 55 4 mm 9 cm x 4 cm  \n4  Mata antywibracyjna SPI 55 4 mm 9 cm x 4 cm  \n5  Mata antywibracyjna SPI 55 4 mm 9 cm x 4 cm  \n6  Mata antywibracyjna SPI 55 4 mm 9 cm x 4 cm  \n7  Mata antywibracyjna SPI 55 4 mm 9 cm x 4 cm  \n8  Mata antywibracyjna SPI 55 4 mm 9 cm x 4 cm  \n9  Mata antywibracyjna SPI 55 4 mm 9 cm x 4 cm  ",
      "text/html": "<div>\n<style scoped>\n    .dataframe tbody tr th:only-of-type {\n        vertical-align: middle;\n    }\n\n    .dataframe tbody tr th {\n        vertical-align: top;\n    }\n\n    .dataframe thead th {\n        text-align: right;\n    }\n</style>\n<table border=\"1\" class=\"dataframe\">\n  <thead>\n    <tr style=\"text-align: right;\">\n      <th></th>\n      <th>review</th>\n      <th>rating</th>\n      <th>article</th>\n    </tr>\n  </thead>\n  <tbody>\n    <tr>\n      <th>0</th>\n      <td>Pralka niestety \" tańczy\" bardziej niż bez pod...</td>\n      <td>1</td>\n      <td>Mata antywibracyjna SPI 55 4 mm 9 cm x 4 cm</td>\n    </tr>\n    <tr>\n      <th>1</th>\n      <td>Podkładki nie są całe z gumy. Maja tylko gumow...</td>\n      <td>3</td>\n      <td>Mata antywibracyjna SPI 55 4 mm 9 cm x 4 cm</td>\n    </tr>\n    <tr>\n      <th>2</th>\n      <td>Plastikowe, ale pewien efekt antywibracyjny je...</td>\n      <td>3</td>\n      <td>Mata antywibracyjna SPI 55 4 mm 9 cm x 4 cm</td>\n    </tr>\n    <tr>\n      <th>3</th>\n      <td>Polecam</td>\n      <td>5</td>\n      <td>Mata antywibracyjna SPI 55 4 mm 9 cm x 4 cm</td>\n    </tr>\n    <tr>\n      <th>4</th>\n      <td>Jaka cena taki produkt. Absolutnie nie nadaje ...</td>\n      <td>1</td>\n      <td>Mata antywibracyjna SPI 55 4 mm 9 cm x 4 cm</td>\n    </tr>\n    <tr>\n      <th>5</th>\n      <td>Plastik</td>\n      <td>3</td>\n      <td>Mata antywibracyjna SPI 55 4 mm 9 cm x 4 cm</td>\n    </tr>\n    <tr>\n      <th>6</th>\n      <td>Popecam</td>\n      <td>5</td>\n      <td>Mata antywibracyjna SPI 55 4 mm 9 cm x 4 cm</td>\n    </tr>\n    <tr>\n      <th>7</th>\n      <td>badziewie i tyle</td>\n      <td>1</td>\n      <td>Mata antywibracyjna SPI 55 4 mm 9 cm x 4 cm</td>\n    </tr>\n    <tr>\n      <th>8</th>\n      <td>Ok</td>\n      <td>5</td>\n      <td>Mata antywibracyjna SPI 55 4 mm 9 cm x 4 cm</td>\n    </tr>\n    <tr>\n      <th>9</th>\n      <td>Robią robotę</td>\n      <td>5</td>\n      <td>Mata antywibracyjna SPI 55 4 mm 9 cm x 4 cm</td>\n    </tr>\n  </tbody>\n</table>\n</div>"
     },
     "execution_count": 2,
     "metadata": {},
     "output_type": "execute_result"
    }
   ],
   "source": [
    "colnames = [\"review\", \"rating\", \"article\"]\n",
    "df = pd.read_csv('./data/allegro/rtvagd/data.csv', names=colnames, header=None)\n",
    "df.head(10)"
   ],
   "metadata": {
    "collapsed": false,
    "ExecuteTime": {
     "end_time": "2023-05-23T16:07:47.601342524Z",
     "start_time": "2023-05-23T16:07:47.543138507Z"
    }
   }
  },
  {
   "cell_type": "code",
   "execution_count": 3,
   "outputs": [
    {
     "data": {
      "text/plain": "                                                    review  rating\narticle                                                           \n36 W 12V DC 5 m kolor wielokolorowy                     16      16\n50 Szt Tarcza Tarcze Do Cięcia Metalu 125X1             34      34\n6x Filtr do Xiaomi Mi Robot Vacuum Mop Pro               8       8\nAerator nożny 13 cm                                    130     130\nAntywibracyjne podkładki Aptel AG561A                  173     173\n...                                                    ...     ...\nŁadowarka sieciowa Baseus CCXJ-B02 uniwersalna ...      36      36\nŚCIĄGACZE KLUCZE NARZĘDZIA DO DEMONTAŻU TAPICERKI      209     209\nŚWIECA ZAPŁONOWA DO PIŁY KOSY SPALINOWEJ NAC DEMON       1       1\nŚciągacz do spinek tapicerki 200mm Yato YT-0842         35      35\nŻyłka tnąca Silver S11750 2,4mm 100m kwadrat             2       2\n\n[210 rows x 2 columns]",
      "text/html": "<div>\n<style scoped>\n    .dataframe tbody tr th:only-of-type {\n        vertical-align: middle;\n    }\n\n    .dataframe tbody tr th {\n        vertical-align: top;\n    }\n\n    .dataframe thead th {\n        text-align: right;\n    }\n</style>\n<table border=\"1\" class=\"dataframe\">\n  <thead>\n    <tr style=\"text-align: right;\">\n      <th></th>\n      <th>review</th>\n      <th>rating</th>\n    </tr>\n    <tr>\n      <th>article</th>\n      <th></th>\n      <th></th>\n    </tr>\n  </thead>\n  <tbody>\n    <tr>\n      <th>36 W 12V DC 5 m kolor wielokolorowy</th>\n      <td>16</td>\n      <td>16</td>\n    </tr>\n    <tr>\n      <th>50 Szt Tarcza Tarcze Do Cięcia Metalu 125X1</th>\n      <td>34</td>\n      <td>34</td>\n    </tr>\n    <tr>\n      <th>6x Filtr do Xiaomi Mi Robot Vacuum Mop Pro</th>\n      <td>8</td>\n      <td>8</td>\n    </tr>\n    <tr>\n      <th>Aerator nożny 13 cm</th>\n      <td>130</td>\n      <td>130</td>\n    </tr>\n    <tr>\n      <th>Antywibracyjne podkładki Aptel AG561A</th>\n      <td>173</td>\n      <td>173</td>\n    </tr>\n    <tr>\n      <th>...</th>\n      <td>...</td>\n      <td>...</td>\n    </tr>\n    <tr>\n      <th>Ładowarka sieciowa Baseus CCXJ-B02 uniwersalna 3000 mA 5 V biała</th>\n      <td>36</td>\n      <td>36</td>\n    </tr>\n    <tr>\n      <th>ŚCIĄGACZE KLUCZE NARZĘDZIA DO DEMONTAŻU TAPICERKI</th>\n      <td>209</td>\n      <td>209</td>\n    </tr>\n    <tr>\n      <th>ŚWIECA ZAPŁONOWA DO PIŁY KOSY SPALINOWEJ NAC DEMON</th>\n      <td>1</td>\n      <td>1</td>\n    </tr>\n    <tr>\n      <th>Ściągacz do spinek tapicerki 200mm Yato YT-0842</th>\n      <td>35</td>\n      <td>35</td>\n    </tr>\n    <tr>\n      <th>Żyłka tnąca Silver S11750 2,4mm 100m kwadrat</th>\n      <td>2</td>\n      <td>2</td>\n    </tr>\n  </tbody>\n</table>\n<p>210 rows × 2 columns</p>\n</div>"
     },
     "execution_count": 3,
     "metadata": {},
     "output_type": "execute_result"
    }
   ],
   "source": [
    "df.groupby('article').count()"
   ],
   "metadata": {
    "collapsed": false,
    "ExecuteTime": {
     "end_time": "2023-05-23T16:07:47.619222608Z",
     "start_time": "2023-05-23T16:07:47.606608189Z"
    }
   }
  },
  {
   "cell_type": "code",
   "execution_count": 4,
   "outputs": [
    {
     "data": {
      "text/plain": "        review  article\nrating                 \n1         1945     1945\n2         1035     1035\n3         2057     2057\n4         4789     4789\n5        11944    11944",
      "text/html": "<div>\n<style scoped>\n    .dataframe tbody tr th:only-of-type {\n        vertical-align: middle;\n    }\n\n    .dataframe tbody tr th {\n        vertical-align: top;\n    }\n\n    .dataframe thead th {\n        text-align: right;\n    }\n</style>\n<table border=\"1\" class=\"dataframe\">\n  <thead>\n    <tr style=\"text-align: right;\">\n      <th></th>\n      <th>review</th>\n      <th>article</th>\n    </tr>\n    <tr>\n      <th>rating</th>\n      <th></th>\n      <th></th>\n    </tr>\n  </thead>\n  <tbody>\n    <tr>\n      <th>1</th>\n      <td>1945</td>\n      <td>1945</td>\n    </tr>\n    <tr>\n      <th>2</th>\n      <td>1035</td>\n      <td>1035</td>\n    </tr>\n    <tr>\n      <th>3</th>\n      <td>2057</td>\n      <td>2057</td>\n    </tr>\n    <tr>\n      <th>4</th>\n      <td>4789</td>\n      <td>4789</td>\n    </tr>\n    <tr>\n      <th>5</th>\n      <td>11944</td>\n      <td>11944</td>\n    </tr>\n  </tbody>\n</table>\n</div>"
     },
     "execution_count": 4,
     "metadata": {},
     "output_type": "execute_result"
    }
   ],
   "source": [
    "df.groupby('rating').count()"
   ],
   "metadata": {
    "collapsed": false,
    "ExecuteTime": {
     "end_time": "2023-05-23T16:07:47.749255680Z",
     "start_time": "2023-05-23T16:07:47.635550160Z"
    }
   }
  },
  {
   "cell_type": "code",
   "execution_count": 5,
   "outputs": [
    {
     "name": "stdout",
     "output_type": "stream",
     "text": [
      "<class 'pandas.core.frame.DataFrame'>\n",
      "RangeIndex: 21770 entries, 0 to 21769\n",
      "Data columns (total 3 columns):\n",
      " #   Column   Non-Null Count  Dtype \n",
      "---  ------   --------------  ----- \n",
      " 0   review   21770 non-null  object\n",
      " 1   rating   21770 non-null  int64 \n",
      " 2   article  21770 non-null  object\n",
      "dtypes: int64(1), object(2)\n",
      "memory usage: 510.4+ KB\n"
     ]
    }
   ],
   "source": [
    "df.info()"
   ],
   "metadata": {
    "collapsed": false,
    "ExecuteTime": {
     "end_time": "2023-05-23T16:07:47.749849306Z",
     "start_time": "2023-05-23T16:07:47.688829961Z"
    }
   }
  },
  {
   "cell_type": "code",
   "execution_count": 6,
   "outputs": [
    {
     "data": {
      "text/plain": "      review  rating                                            article\n8         Ok       5        Mata antywibracyjna SPI 55 4 mm 9 cm x 4 cm\n54        Ok       5        Mata antywibracyjna SPI 55 4 mm 9 cm x 4 cm\n55        Ok       5        Mata antywibracyjna SPI 55 4 mm 9 cm x 4 cm\n60        Ok       5        Mata antywibracyjna SPI 55 4 mm 9 cm x 4 cm\n93        Ok       5        Mata antywibracyjna SPI 55 4 mm 9 cm x 4 cm\n...      ...     ...                                                ...\n20613     Ok       3    Ściągacz do spinek tapicerki 200mm Yato YT-0842\n20836     Ok       3  Preparat do dezynfekcji Medisept Alodes N płyn...\n20896     Ok       4            Kosiarka spalinowa Riwall 196 cm³ 51 cm\n20970     Ok       4  Wkład klejowy do pistoletu 36 szt. 11 mm x 300 mm\n21418     Ok       4             Uchwyt na kratkę nawiewu Baseus czarny\n\n[667 rows x 3 columns]",
      "text/html": "<div>\n<style scoped>\n    .dataframe tbody tr th:only-of-type {\n        vertical-align: middle;\n    }\n\n    .dataframe tbody tr th {\n        vertical-align: top;\n    }\n\n    .dataframe thead th {\n        text-align: right;\n    }\n</style>\n<table border=\"1\" class=\"dataframe\">\n  <thead>\n    <tr style=\"text-align: right;\">\n      <th></th>\n      <th>review</th>\n      <th>rating</th>\n      <th>article</th>\n    </tr>\n  </thead>\n  <tbody>\n    <tr>\n      <th>8</th>\n      <td>Ok</td>\n      <td>5</td>\n      <td>Mata antywibracyjna SPI 55 4 mm 9 cm x 4 cm</td>\n    </tr>\n    <tr>\n      <th>54</th>\n      <td>Ok</td>\n      <td>5</td>\n      <td>Mata antywibracyjna SPI 55 4 mm 9 cm x 4 cm</td>\n    </tr>\n    <tr>\n      <th>55</th>\n      <td>Ok</td>\n      <td>5</td>\n      <td>Mata antywibracyjna SPI 55 4 mm 9 cm x 4 cm</td>\n    </tr>\n    <tr>\n      <th>60</th>\n      <td>Ok</td>\n      <td>5</td>\n      <td>Mata antywibracyjna SPI 55 4 mm 9 cm x 4 cm</td>\n    </tr>\n    <tr>\n      <th>93</th>\n      <td>Ok</td>\n      <td>5</td>\n      <td>Mata antywibracyjna SPI 55 4 mm 9 cm x 4 cm</td>\n    </tr>\n    <tr>\n      <th>...</th>\n      <td>...</td>\n      <td>...</td>\n      <td>...</td>\n    </tr>\n    <tr>\n      <th>20613</th>\n      <td>Ok</td>\n      <td>3</td>\n      <td>Ściągacz do spinek tapicerki 200mm Yato YT-0842</td>\n    </tr>\n    <tr>\n      <th>20836</th>\n      <td>Ok</td>\n      <td>3</td>\n      <td>Preparat do dezynfekcji Medisept Alodes N płyn...</td>\n    </tr>\n    <tr>\n      <th>20896</th>\n      <td>Ok</td>\n      <td>4</td>\n      <td>Kosiarka spalinowa Riwall 196 cm³ 51 cm</td>\n    </tr>\n    <tr>\n      <th>20970</th>\n      <td>Ok</td>\n      <td>4</td>\n      <td>Wkład klejowy do pistoletu 36 szt. 11 mm x 300 mm</td>\n    </tr>\n    <tr>\n      <th>21418</th>\n      <td>Ok</td>\n      <td>4</td>\n      <td>Uchwyt na kratkę nawiewu Baseus czarny</td>\n    </tr>\n  </tbody>\n</table>\n<p>667 rows × 3 columns</p>\n</div>"
     },
     "execution_count": 6,
     "metadata": {},
     "output_type": "execute_result"
    }
   ],
   "source": [
    "df[df['review'] == \"Ok\"]"
   ],
   "metadata": {
    "collapsed": false,
    "ExecuteTime": {
     "end_time": "2023-05-23T16:07:47.750431992Z",
     "start_time": "2023-05-23T16:07:47.689038797Z"
    }
   }
  },
  {
   "cell_type": "code",
   "execution_count": 7,
   "outputs": [
    {
     "data": {
      "text/plain": "rating\n1    1828\n2     999\n3    1955\n4    4065\n5    5742\nName: review, dtype: int64"
     },
     "execution_count": 7,
     "metadata": {},
     "output_type": "execute_result"
    }
   ],
   "source": [
    "df['review'] = df['review'].apply(lambda x: x.lower())\n",
    "new_df = df.drop_duplicates(subset=['review'])\n",
    "new_df.groupby('rating').count()['review']"
   ],
   "metadata": {
    "collapsed": false,
    "ExecuteTime": {
     "end_time": "2023-05-23T16:07:47.750733846Z",
     "start_time": "2023-05-23T16:07:47.722000136Z"
    }
   }
  },
  {
   "cell_type": "code",
   "execution_count": 8,
   "outputs": [
    {
     "data": {
      "text/plain": "14589"
     },
     "execution_count": 8,
     "metadata": {},
     "output_type": "execute_result"
    }
   ],
   "source": [
    "new_df.groupby('rating').count()['review'].sum()"
   ],
   "metadata": {
    "collapsed": false,
    "ExecuteTime": {
     "end_time": "2023-05-23T16:07:47.807267463Z",
     "start_time": "2023-05-23T16:07:47.733832559Z"
    }
   }
  },
  {
   "cell_type": "code",
   "execution_count": 8,
   "outputs": [],
   "source": [],
   "metadata": {
    "collapsed": false,
    "ExecuteTime": {
     "end_time": "2023-05-23T16:07:47.807495477Z",
     "start_time": "2023-05-23T16:07:47.774041937Z"
    }
   }
  }
 ],
 "metadata": {
  "kernelspec": {
   "display_name": "Python 3",
   "language": "python",
   "name": "python3"
  },
  "language_info": {
   "codemirror_mode": {
    "name": "ipython",
    "version": 2
   },
   "file_extension": ".py",
   "mimetype": "text/x-python",
   "name": "python",
   "nbconvert_exporter": "python",
   "pygments_lexer": "ipython2",
   "version": "2.7.6"
  }
 },
 "nbformat": 4,
 "nbformat_minor": 0
}
